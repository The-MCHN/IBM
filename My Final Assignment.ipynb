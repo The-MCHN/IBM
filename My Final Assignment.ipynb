{
 "cells": [
  {
   "cell_type": "markdown",
   "metadata": {},
   "source": [
    "<center>\n",
    "    <img src=\"https://cf-courses-data.s3.us.cloud-object-storage.appdomain.cloud/IBMDeveloperSkillsNetwork-DS0105EN-SkillsNetwork/labs/Module2/images/SN_web_lightmode.png\" width=\"300\" alt=\"cognitiveclass.ai logo\">\n",
    "</center>\n"
   ]
  },
  {
   "cell_type": "markdown",
   "metadata": {},
   "source": [
    "#### Add your code below following the instructions given in the course\n"
   ]
  },
  {
   "cell_type": "markdown",
   "metadata": {},
   "source": [
    "# My Final Assignment"
   ]
  },
  {
   "cell_type": "markdown",
   "metadata": {
    "tags": []
   },
   "source": [
    "### *Introduction*\n",
    "This week I've learnt about R, Python, other languages used in Data Science and Github."
   ]
  },
  {
   "cell_type": "markdown",
   "metadata": {},
   "source": [
    "### Data science languages\n",
    "- Python\n",
    "- Julia\n",
    "- R\n",
    "- Scala\n",
    "- Java\n",
    "- SQL"
   ]
  },
  {
   "cell_type": "markdown",
   "metadata": {},
   "source": [
    "### Data sciene libraries\n",
    "+ General:\n",
    "    - TensorFlow\n",
    "+ Python:\n",
    "    - Pandas\n",
    "    - Matplotlib\n",
    "    - seaborn\n",
    "    - Scipy\n",
    "    - PyTorch\n",
    "    - Numpy\n",
    "    - NLPT\n",
    "+ R:\n",
    "    - ggplot2\n",
    "    - caret\n",
    "    - dplyr\n"
   ]
  },
  {
   "cell_type": "markdown",
   "metadata": {},
   "source": [
    "### Data science tools table ###\n",
    "|Data science tools|\n",
    "|---|\n",
    "|Git, Github, Bitbucket, GitLab|\n",
    "|R, Python, Java, Scala, SQL, Julia|\n",
    "|Jupyter Notebook, Jupyter Lab|\n",
    "|IBM Watson, SAS, Cloud Services|"
   ]
  },
  {
   "cell_type": "markdown",
   "metadata": {},
   "source": [
    "### Arithmetic expression examples"
   ]
  },
  {
   "cell_type": "markdown",
   "metadata": {},
   "source": [
    "(21*37)/3721\\\n",
    "20+20-19*10\\\n",
    "11*11"
   ]
  },
  {
   "cell_type": "code",
   "execution_count": 2,
   "metadata": {
    "tags": []
   },
   "outputs": [
    {
     "data": {
      "text/plain": [
       "(4, 4)"
      ]
     },
     "execution_count": 2,
     "metadata": {},
     "output_type": "execute_result"
    }
   ],
   "source": [
    "2*2, 2+2"
   ]
  },
  {
   "cell_type": "code",
   "execution_count": 3,
   "metadata": {
    "tags": []
   },
   "outputs": [
    {
     "data": {
      "text/plain": [
       "0.08333333333333333"
      ]
     },
     "execution_count": 3,
     "metadata": {},
     "output_type": "execute_result"
    }
   ],
   "source": [
    "# m/60\n",
    "5/60"
   ]
  },
  {
   "cell_type": "markdown",
   "metadata": {},
   "source": [
    "### ___Objectives___:\n",
    "+ Exercise 2 - Create a markdown cell with the title of the notebook. (1 pt)\n",
    "+ Exercise 3 - Create a markdown cell for an introduction. (1 pt)\n",
    "+ Exercise 4 - Create a markdown cell to list data science languages. (3 pts)\n",
    "+ Exercise 5 - Create a markdown cell to list data science libraries. (3 pts)\n",
    "+ Exercise 6 - Create a markdown cell with a table of Data Science tools. (3 pts)\n",
    "+ Exercise 7 - Create a markdown cell introducing arithmetic expression examples. (1 pt)\n",
    "+ Exercise 8 - Create a code cell to multiply and add numbers. (2 pts)\n",
    "+ Exercise 9 - Create a code cell to convert minutes to hours. (2 pts)\n",
    "+ Exercise 10 -Insert a markdown cell to list Objectives. (3 pts)\n",
    "+ Exercise 11 - Create a markdown cell to indicate the Author’s name. (2 pts)\n",
    "+ Exercise 12 - Share your notebook through GitHub (3 pts)\n",
    "+ Exercise 13 - Take a screenshot of the first page of the notebook. (1 pt)"
   ]
  },
  {
   "cell_type": "markdown",
   "metadata": {},
   "source": [
    "Author: Wiktor Machon"
   ]
  },
  {
   "cell_type": "code",
   "execution_count": null,
   "metadata": {},
   "outputs": [],
   "source": []
  }
 ],
 "metadata": {
  "kernelspec": {
   "display_name": "Python",
   "language": "python",
   "name": "conda-env-python-py"
  },
  "language_info": {
   "codemirror_mode": {
    "name": "ipython",
    "version": 3
   },
   "file_extension": ".py",
   "mimetype": "text/x-python",
   "name": "python",
   "nbconvert_exporter": "python",
   "pygments_lexer": "ipython3",
   "version": "3.7.12"
  }
 },
 "nbformat": 4,
 "nbformat_minor": 4
}
